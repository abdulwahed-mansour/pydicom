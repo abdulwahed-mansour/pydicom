{
 "cells": [
  {
   "cell_type": "markdown",
   "id": "ef00bf04",
   "metadata": {},
   "source": [
    "### Installing The Packages"
   ]
  },
  {
   "cell_type": "code",
   "execution_count": 9,
   "id": "3d0f5d8b",
   "metadata": {},
   "outputs": [],
   "source": [
    "import numpy as np\n",
    "import pydicom\n",
    "from PIL import Image\n",
    "import os"
   ]
  },
  {
   "cell_type": "code",
   "execution_count": 10,
   "id": "1c9a0495",
   "metadata": {},
   "outputs": [],
   "source": [
    "# Extracting The Pixel Array\n",
    "ds = pydicom.dcmread('MANSOOR_.MR.head_clin.2.10.2020.11.21.15.30.31.363.58964094.dcm')\n",
    "new_image = ds.pixel_array.astype(float)\n",
    "\n",
    "# Rescaling the image\n",
    "scaled_image = (np.maximum(new_image, 0) / new_image.max()) * 255.0\n",
    "\n",
    "# Displaying And Saving The Image\n",
    "scaled_image = np.uint8(scaled_image)\n",
    "final_image = Image.fromarray(scaled_image)\n",
    "\n",
    "final_image.show()"
   ]
  },
  {
   "cell_type": "code",
   "execution_count": 8,
   "id": "4dafa29f",
   "metadata": {},
   "outputs": [],
   "source": [
    "final_image.save('image.jpg')\n",
    "final_image.save('image.png')"
   ]
  },
  {
   "cell_type": "code",
   "execution_count": null,
   "id": "4618df85",
   "metadata": {},
   "outputs": [],
   "source": []
  }
 ],
 "metadata": {
  "kernelspec": {
   "display_name": "Python 3",
   "language": "python",
   "name": "python3"
  },
  "language_info": {
   "codemirror_mode": {
    "name": "ipython",
    "version": 3
   },
   "file_extension": ".py",
   "mimetype": "text/x-python",
   "name": "python",
   "nbconvert_exporter": "python",
   "pygments_lexer": "ipython3",
   "version": "3.8.8"
  }
 },
 "nbformat": 4,
 "nbformat_minor": 5
}
